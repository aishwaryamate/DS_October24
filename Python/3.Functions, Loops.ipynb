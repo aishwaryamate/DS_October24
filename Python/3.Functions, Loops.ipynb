{
 "cells": [
  {
   "cell_type": "markdown",
   "id": "e4b949d4",
   "metadata": {},
   "source": [
    "# Functions\n",
    "- In python, there are two types of function.\n",
    "    - Built-in funtions\n",
    "    - User defined function\n",
    "- We can create our own customized functions in python for code reusability."
   ]
  },
  {
   "cell_type": "code",
   "execution_count": null,
   "id": "c03cfde8",
   "metadata": {
    "ExecuteTime": {
     "end_time": "2023-08-02T06:31:50.216813Z",
     "start_time": "2023-08-02T06:31:50.200988Z"
    }
   },
   "outputs": [],
   "source": [
    "#Basic Function"
   ]
  },
  {
   "cell_type": "code",
   "execution_count": 5,
   "id": "44fe4a3f",
   "metadata": {
    "ExecuteTime": {
     "end_time": "2023-08-02T06:31:50.248545Z",
     "start_time": "2023-08-02T06:31:50.221892Z"
    }
   },
   "outputs": [
    {
     "name": "stdout",
     "output_type": "stream",
     "text": [
      "This is second sentence\n"
     ]
    }
   ],
   "source": [
    "def simple_function():\n",
    "    print('This is user defined function')\n",
    "print('This is second sentence')"
   ]
  },
  {
   "cell_type": "code",
   "execution_count": 9,
   "id": "77be4f62",
   "metadata": {
    "ExecuteTime": {
     "end_time": "2023-08-02T06:31:50.263688Z",
     "start_time": "2023-08-02T06:31:50.252535Z"
    }
   },
   "outputs": [
    {
     "name": "stdout",
     "output_type": "stream",
     "text": [
      "This is user defined function\n"
     ]
    }
   ],
   "source": [
    "simple_function()"
   ]
  },
  {
   "cell_type": "code",
   "execution_count": null,
   "id": "ed99c826-ee8c-4d51-be19-240e34796b34",
   "metadata": {},
   "outputs": [],
   "source": [
    "len()"
   ]
  },
  {
   "cell_type": "code",
   "execution_count": null,
   "id": "c96b8c93",
   "metadata": {
    "ExecuteTime": {
     "end_time": "2023-08-02T06:31:50.279552Z",
     "start_time": "2023-08-02T06:31:50.267699Z"
    }
   },
   "outputs": [],
   "source": [
    "#Docstring"
   ]
  },
  {
   "cell_type": "code",
   "execution_count": 11,
   "id": "0dc05348",
   "metadata": {
    "ExecuteTime": {
     "end_time": "2023-08-02T06:31:50.295215Z",
     "start_time": "2023-08-02T06:31:50.285100Z"
    }
   },
   "outputs": [],
   "source": [
    "def function1():\n",
    "    '''This function will print 2 sentences.'''\n",
    "    print('This is first sentence')\n",
    "    print('This is second sentence')"
   ]
  },
  {
   "cell_type": "code",
   "execution_count": 13,
   "id": "b2186e4f",
   "metadata": {
    "ExecuteTime": {
     "end_time": "2023-08-02T06:31:50.311141Z",
     "start_time": "2023-08-02T06:31:50.297607Z"
    }
   },
   "outputs": [
    {
     "name": "stdout",
     "output_type": "stream",
     "text": [
      "This is first sentence\n",
      "This is second sentence\n"
     ]
    }
   ],
   "source": [
    "function1()"
   ]
  },
  {
   "cell_type": "code",
   "execution_count": 15,
   "id": "116785d1-cffa-4520-a011-f2e5c121c5ae",
   "metadata": {},
   "outputs": [],
   "source": [
    "def add():\n",
    "    print(75+95)"
   ]
  },
  {
   "cell_type": "code",
   "execution_count": 17,
   "id": "dccac039-0f29-4162-8d67-1019cb4a259c",
   "metadata": {},
   "outputs": [
    {
     "name": "stdout",
     "output_type": "stream",
     "text": [
      "170\n"
     ]
    }
   ],
   "source": [
    "add()"
   ]
  },
  {
   "cell_type": "code",
   "execution_count": 21,
   "id": "b41d41ac-7425-4af6-a46e-913ca5ec0763",
   "metadata": {},
   "outputs": [
    {
     "ename": "TypeError",
     "evalue": "add() takes 0 positional arguments but 2 were given",
     "output_type": "error",
     "traceback": [
      "\u001b[1;31m---------------------------------------------------------------------------\u001b[0m",
      "\u001b[1;31mTypeError\u001b[0m                                 Traceback (most recent call last)",
      "Cell \u001b[1;32mIn[21], line 1\u001b[0m\n\u001b[1;32m----> 1\u001b[0m add(\u001b[38;5;241m54\u001b[39m,\u001b[38;5;241m9568\u001b[39m)\n",
      "\u001b[1;31mTypeError\u001b[0m: add() takes 0 positional arguments but 2 were given"
     ]
    }
   ],
   "source": [
    "add(54,9568)"
   ]
  },
  {
   "cell_type": "code",
   "execution_count": 23,
   "id": "6ecb899e-14d1-473e-9365-faebe3098c44",
   "metadata": {},
   "outputs": [],
   "source": [
    "def add(num1,num2):\n",
    "    print(num1+num2)"
   ]
  },
  {
   "cell_type": "code",
   "execution_count": 29,
   "id": "bfd8d6ab-183d-4327-b311-76306cb37675",
   "metadata": {},
   "outputs": [
    {
     "name": "stdout",
     "output_type": "stream",
     "text": [
      "132011\n"
     ]
    }
   ],
   "source": [
    "add(74455,57556)"
   ]
  },
  {
   "cell_type": "code",
   "execution_count": 31,
   "id": "fc10f05f",
   "metadata": {
    "ExecuteTime": {
     "end_time": "2023-08-02T06:31:50.342261Z",
     "start_time": "2023-08-02T06:31:50.336862Z"
    }
   },
   "outputs": [],
   "source": [
    "#Write a python function which will return me the maximum number\n",
    "def max_number(num1,num2):\n",
    "    '''This function returns max number between given two number'''\n",
    "    return max(num1,num2)"
   ]
  },
  {
   "cell_type": "code",
   "execution_count": 35,
   "id": "ba37b62c-449f-425d-9be1-7c098b35caa4",
   "metadata": {},
   "outputs": [
    {
     "data": {
      "text/plain": [
       "650"
      ]
     },
     "execution_count": 35,
     "metadata": {},
     "output_type": "execute_result"
    }
   ],
   "source": [
    "max_number(74,650)"
   ]
  },
  {
   "cell_type": "code",
   "execution_count": 37,
   "id": "70260616",
   "metadata": {
    "ExecuteTime": {
     "end_time": "2023-08-02T06:31:50.357639Z",
     "start_time": "2023-08-02T06:31:50.346171Z"
    }
   },
   "outputs": [],
   "source": [
    "def max_number(a,b):\n",
    "    if a>b:\n",
    "        return a\n",
    "    else:\n",
    "        return b"
   ]
  },
  {
   "cell_type": "code",
   "execution_count": 41,
   "id": "8a269a9a",
   "metadata": {
    "ExecuteTime": {
     "end_time": "2023-08-02T06:31:50.389533Z",
     "start_time": "2023-08-02T06:31:50.363275Z"
    }
   },
   "outputs": [
    {
     "data": {
      "text/plain": [
       "55"
      ]
     },
     "execution_count": 41,
     "metadata": {},
     "output_type": "execute_result"
    }
   ],
   "source": [
    "max_number(50,55)"
   ]
  },
  {
   "cell_type": "code",
   "execution_count": 43,
   "id": "49c846e3-31bc-4e39-85fc-8f29fc49c32a",
   "metadata": {},
   "outputs": [
    {
     "data": {
      "text/plain": [
       "'pythonsession'"
      ]
     },
     "execution_count": 43,
     "metadata": {},
     "output_type": "execute_result"
    }
   ],
   "source": [
    "'python'+'session'"
   ]
  },
  {
   "cell_type": "code",
   "execution_count": 45,
   "id": "45d4adba-4296-45db-8d34-c890ebe35d4b",
   "metadata": {},
   "outputs": [
    {
     "name": "stdout",
     "output_type": "stream",
     "text": [
      "pythonsession\n"
     ]
    }
   ],
   "source": [
    "add('python','session')"
   ]
  },
  {
   "cell_type": "markdown",
   "id": "603cc120",
   "metadata": {},
   "source": [
    "# Loops\n",
    "\n",
    "1. While Loop \n",
    "2. For loop"
   ]
  },
  {
   "cell_type": "code",
   "execution_count": null,
   "id": "c26de0a4",
   "metadata": {
    "ExecuteTime": {
     "end_time": "2023-08-02T06:31:50.651938Z",
     "start_time": "2023-08-02T06:31:50.651938Z"
    }
   },
   "outputs": [],
   "source": [
    "#While loops"
   ]
  },
  {
   "cell_type": "code",
   "execution_count": 55,
   "id": "08d8986f",
   "metadata": {
    "ExecuteTime": {
     "end_time": "2023-08-02T07:58:07.212596Z",
     "start_time": "2023-08-02T07:58:07.197870Z"
    }
   },
   "outputs": [
    {
     "name": "stdout",
     "output_type": "stream",
     "text": [
      "Learning python 10\n",
      "Learning python 9\n",
      "Learning python 8\n",
      "Learning python 7\n",
      "Learning python 6\n",
      "Learning python 5\n",
      "Learning python 4\n",
      "Learning python 3\n",
      "Learning python 2\n",
      "Learning python 1\n",
      "Python completed\n"
     ]
    }
   ],
   "source": [
    "python = 10\n",
    "\n",
    "while python > 0:\n",
    "    print('Learning python',python)\n",
    "    python = python - 1\n",
    "    \n",
    "print('Python completed')"
   ]
  },
  {
   "cell_type": "code",
   "execution_count": 51,
   "id": "c58591de-ac6c-4b6d-ad00-b33bf1975ac3",
   "metadata": {},
   "outputs": [
    {
     "data": {
      "text/plain": [
       "0"
      ]
     },
     "execution_count": 51,
     "metadata": {},
     "output_type": "execute_result"
    }
   ],
   "source": [
    "python"
   ]
  },
  {
   "cell_type": "code",
   "execution_count": null,
   "id": "8a99e5ee",
   "metadata": {
    "ExecuteTime": {
     "end_time": "2023-08-02T08:02:25.571020Z",
     "start_time": "2023-08-02T08:02:25.558670Z"
    }
   },
   "outputs": [],
   "source": [
    "age = 0\n",
    "\n",
    "while age < 18:\n",
    "    print('Not eligible')\n",
    "    age = age + 1\n",
    "    \n",
    "print('Eligible')"
   ]
  },
  {
   "cell_type": "code",
   "execution_count": 1,
   "id": "ec65326a-6955-4779-80a6-60138c13feda",
   "metadata": {},
   "outputs": [
    {
     "data": {
      "text/plain": [
       "range(1, 50)"
      ]
     },
     "execution_count": 1,
     "metadata": {},
     "output_type": "execute_result"
    }
   ],
   "source": [
    "range(1,50)"
   ]
  },
  {
   "cell_type": "code",
   "execution_count": 7,
   "id": "fd82727a-c719-4d6f-92e7-976926061799",
   "metadata": {},
   "outputs": [
    {
     "data": {
      "text/plain": [
       "set"
      ]
     },
     "execution_count": 7,
     "metadata": {},
     "output_type": "execute_result"
    }
   ],
   "source": [
    "lst = set()\n",
    "type(lst)"
   ]
  },
  {
   "cell_type": "code",
   "execution_count": 9,
   "id": "ec0d9c0d",
   "metadata": {
    "ExecuteTime": {
     "end_time": "2023-08-02T08:07:37.073825Z",
     "start_time": "2023-08-02T08:07:37.056546Z"
    }
   },
   "outputs": [
    {
     "data": {
      "text/plain": [
       "[1, 2, 3, 4, 5, 6, 7, 8, 9, 10, 11, 12, 13, 14, 15, 16, 17, 18, 19]"
      ]
     },
     "execution_count": 9,
     "metadata": {},
     "output_type": "execute_result"
    }
   ],
   "source": [
    "#range function\n",
    "list(range(1,20))"
   ]
  },
  {
   "cell_type": "code",
   "execution_count": 11,
   "id": "bb2ae0b3",
   "metadata": {
    "ExecuteTime": {
     "end_time": "2023-08-02T08:08:03.228495Z",
     "start_time": "2023-08-02T08:08:03.210844Z"
    }
   },
   "outputs": [
    {
     "data": {
      "text/plain": [
       "[1, 3, 5, 7, 9, 11, 13, 15, 17, 19]"
      ]
     },
     "execution_count": 11,
     "metadata": {},
     "output_type": "execute_result"
    }
   ],
   "source": [
    "list(range(1,21,2))"
   ]
  },
  {
   "cell_type": "code",
   "execution_count": null,
   "id": "25c41f27",
   "metadata": {
    "ExecuteTime": {
     "end_time": "2023-08-02T08:09:50.982681Z",
     "start_time": "2023-08-02T08:09:50.969776Z"
    }
   },
   "outputs": [],
   "source": [
    "list(range(0,21,2))"
   ]
  },
  {
   "cell_type": "code",
   "execution_count": null,
   "id": "d4d45a83",
   "metadata": {
    "ExecuteTime": {
     "end_time": "2023-08-02T06:31:50.658710Z",
     "start_time": "2023-08-02T06:31:50.658710Z"
    }
   },
   "outputs": [],
   "source": [
    "#For loop"
   ]
  },
  {
   "cell_type": "code",
   "execution_count": null,
   "id": "ac96a16e",
   "metadata": {
    "ExecuteTime": {
     "end_time": "2023-07-02T11:34:41.449202Z",
     "start_time": "2023-07-02T11:34:41.433555Z"
    }
   },
   "outputs": [],
   "source": [
    "lst = [1,2,3,4,5]"
   ]
  },
  {
   "cell_type": "code",
   "execution_count": 13,
   "id": "ad8754db",
   "metadata": {
    "ExecuteTime": {
     "end_time": "2023-08-02T08:15:30.231702Z",
     "start_time": "2023-08-02T08:15:30.214451Z"
    }
   },
   "outputs": [
    {
     "name": "stdout",
     "output_type": "stream",
     "text": [
      "1\n",
      "2\n",
      "3\n",
      "4\n",
      "5\n",
      "6\n",
      "7\n",
      "8\n",
      "9\n",
      "10\n",
      "11\n",
      "12\n",
      "13\n",
      "14\n",
      "15\n",
      "16\n",
      "17\n",
      "18\n",
      "19\n",
      "20\n",
      "21\n",
      "22\n",
      "23\n",
      "24\n",
      "25\n",
      "26\n",
      "27\n",
      "28\n",
      "29\n",
      "30\n",
      "31\n",
      "32\n",
      "33\n",
      "34\n",
      "35\n",
      "36\n",
      "37\n",
      "38\n",
      "39\n",
      "40\n",
      "41\n",
      "42\n",
      "43\n",
      "44\n",
      "45\n",
      "46\n",
      "47\n",
      "48\n",
      "49\n",
      "50\n",
      "51\n",
      "52\n",
      "53\n",
      "54\n",
      "55\n",
      "56\n",
      "57\n",
      "58\n",
      "59\n",
      "60\n",
      "61\n",
      "62\n",
      "63\n",
      "64\n",
      "65\n",
      "66\n",
      "67\n",
      "68\n",
      "69\n",
      "70\n",
      "71\n",
      "72\n",
      "73\n",
      "74\n",
      "75\n",
      "76\n",
      "77\n",
      "78\n",
      "79\n",
      "80\n",
      "81\n",
      "82\n",
      "83\n",
      "84\n",
      "85\n",
      "86\n",
      "87\n",
      "88\n",
      "89\n",
      "90\n",
      "91\n",
      "92\n",
      "93\n",
      "94\n",
      "95\n",
      "96\n",
      "97\n",
      "98\n",
      "99\n"
     ]
    }
   ],
   "source": [
    "for i in range(1,100):\n",
    "    print(i)"
   ]
  },
  {
   "cell_type": "code",
   "execution_count": 15,
   "id": "7b612e00",
   "metadata": {
    "ExecuteTime": {
     "end_time": "2023-08-02T08:19:20.810162Z",
     "start_time": "2023-08-02T08:19:20.789960Z"
    }
   },
   "outputs": [],
   "source": [
    "lst = []\n",
    "\n",
    "for i in range(1,100,2):\n",
    "    lst.append(i)"
   ]
  },
  {
   "cell_type": "code",
   "execution_count": 17,
   "id": "4f5f4ebb-e836-4241-80b6-c368b0de1ca5",
   "metadata": {},
   "outputs": [
    {
     "data": {
      "text/plain": [
       "[1,\n",
       " 3,\n",
       " 5,\n",
       " 7,\n",
       " 9,\n",
       " 11,\n",
       " 13,\n",
       " 15,\n",
       " 17,\n",
       " 19,\n",
       " 21,\n",
       " 23,\n",
       " 25,\n",
       " 27,\n",
       " 29,\n",
       " 31,\n",
       " 33,\n",
       " 35,\n",
       " 37,\n",
       " 39,\n",
       " 41,\n",
       " 43,\n",
       " 45,\n",
       " 47,\n",
       " 49,\n",
       " 51,\n",
       " 53,\n",
       " 55,\n",
       " 57,\n",
       " 59,\n",
       " 61,\n",
       " 63,\n",
       " 65,\n",
       " 67,\n",
       " 69,\n",
       " 71,\n",
       " 73,\n",
       " 75,\n",
       " 77,\n",
       " 79,\n",
       " 81,\n",
       " 83,\n",
       " 85,\n",
       " 87,\n",
       " 89,\n",
       " 91,\n",
       " 93,\n",
       " 95,\n",
       " 97,\n",
       " 99]"
      ]
     },
     "execution_count": 17,
     "metadata": {},
     "output_type": "execute_result"
    }
   ],
   "source": [
    "lst"
   ]
  },
  {
   "cell_type": "code",
   "execution_count": 19,
   "id": "dc405e16",
   "metadata": {
    "ExecuteTime": {
     "end_time": "2023-08-02T08:23:47.763019Z",
     "start_time": "2023-08-02T08:23:47.757485Z"
    }
   },
   "outputs": [
    {
     "name": "stdout",
     "output_type": "stream",
     "text": [
      "1\n",
      "4\n",
      "9\n",
      "16\n",
      "25\n",
      "36\n",
      "49\n",
      "64\n",
      "81\n"
     ]
    }
   ],
   "source": [
    "for x in range(1,10):\n",
    "    print(x**2)"
   ]
  },
  {
   "cell_type": "code",
   "execution_count": 21,
   "id": "e55b50f3",
   "metadata": {
    "ExecuteTime": {
     "end_time": "2023-08-02T08:25:04.006340Z",
     "start_time": "2023-08-02T08:25:03.999781Z"
    }
   },
   "outputs": [
    {
     "data": {
      "text/plain": [
       "['flipkart', 'amazon', 'excelr']"
      ]
     },
     "execution_count": 21,
     "metadata": {},
     "output_type": "execute_result"
    }
   ],
   "source": [
    "#Company list\n",
    "company = ['flipkart','amazon','excelr']\n",
    "company"
   ]
  },
  {
   "cell_type": "code",
   "execution_count": 23,
   "id": "77bd1973",
   "metadata": {
    "ExecuteTime": {
     "end_time": "2023-08-02T08:27:29.694767Z",
     "start_time": "2023-08-02T08:27:29.682901Z"
    }
   },
   "outputs": [
    {
     "name": "stdout",
     "output_type": "stream",
     "text": [
      "flipkart\n",
      "amazon\n",
      "excelr\n"
     ]
    }
   ],
   "source": [
    "for i in company:\n",
    "    print(i)"
   ]
  },
  {
   "cell_type": "code",
   "execution_count": 25,
   "id": "b3893ac1",
   "metadata": {
    "ExecuteTime": {
     "end_time": "2023-08-02T08:29:04.282977Z",
     "start_time": "2023-08-02T08:29:04.263878Z"
    }
   },
   "outputs": [
    {
     "name": "stdout",
     "output_type": "stream",
     "text": [
      "www.flipkart.com\n",
      "www.amazon.com\n",
      "www.excelr.com\n"
     ]
    }
   ],
   "source": [
    "for i in company:\n",
    "    print('www.'+i+'.com')"
   ]
  },
  {
   "cell_type": "markdown",
   "id": "f1b6f754-5db6-4bbc-9dd6-b1b6d04a1603",
   "metadata": {},
   "source": [
    "# Format Strings"
   ]
  },
  {
   "cell_type": "code",
   "execution_count": 28,
   "id": "a350e502-3710-432c-9b83-ef486a1c2928",
   "metadata": {},
   "outputs": [
    {
     "name": "stdin",
     "output_type": "stream",
     "text": [
      " ABC\n",
      " 25\n",
      " Pune\n",
      " DS\n"
     ]
    }
   ],
   "source": [
    "name = input()\n",
    "age = int(input())\n",
    "location = input()\n",
    "course = input()"
   ]
  },
  {
   "cell_type": "code",
   "execution_count": 34,
   "id": "9a8150ba-adaa-4497-8843-ea0265392377",
   "metadata": {},
   "outputs": [
    {
     "name": "stdout",
     "output_type": "stream",
     "text": [
      "Name of student is name. He is age yrs old.\n",
      "Name of students is ABC He is 25 yrs old\n"
     ]
    }
   ],
   "source": [
    "print('Name of student is name. He is age yrs old.')\n",
    "print('Name of students is', name,'He is',age, 'yrs old')"
   ]
  },
  {
   "cell_type": "code",
   "execution_count": 36,
   "id": "15105714-8b62-403d-a42c-19517cde1c6b",
   "metadata": {},
   "outputs": [
    {
     "name": "stdout",
     "output_type": "stream",
     "text": [
      "Name of student is ABC.He is 25 yrs old. He is from Pune and he has taken DS course.\n"
     ]
    }
   ],
   "source": [
    "#Format strings\n",
    "\n",
    "print(f'Name of student is {name}.He is {age} yrs old. He is from {location} and he has taken {course} course.')"
   ]
  },
  {
   "cell_type": "code",
   "execution_count": null,
   "id": "b979acf1-eec5-45a0-ae10-31c3a7545833",
   "metadata": {},
   "outputs": [],
   "source": []
  }
 ],
 "metadata": {
  "kernelspec": {
   "display_name": "Python 3 (ipykernel)",
   "language": "python",
   "name": "python3"
  },
  "language_info": {
   "codemirror_mode": {
    "name": "ipython",
    "version": 3
   },
   "file_extension": ".py",
   "mimetype": "text/x-python",
   "name": "python",
   "nbconvert_exporter": "python",
   "pygments_lexer": "ipython3",
   "version": "3.12.4"
  }
 },
 "nbformat": 4,
 "nbformat_minor": 5
}
