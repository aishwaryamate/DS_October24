{
 "cells": [
  {
   "cell_type": "code",
   "execution_count": 1,
   "id": "53affba1",
   "metadata": {
    "ExecuteTime": {
     "end_time": "2023-10-12T08:00:36.384130Z",
     "start_time": "2023-10-12T08:00:30.769453Z"
    }
   },
   "outputs": [],
   "source": [
    "#Import Libraries\n",
    "import pandas as pd\n",
    "import numpy as np\n",
    "from sklearn.model_selection import train_test_split\n",
    "from sklearn.impute import SimpleImputer\n",
    "from sklearn.linear_model import  Lasso, Ridge, ElasticNet\n",
    "from sklearn.preprocessing import OrdinalEncoder\n",
    "import warnings\n",
    "warnings.filterwarnings('ignore')"
   ]
  },
  {
   "cell_type": "code",
   "execution_count": 2,
   "id": "9ed21ed6",
   "metadata": {
    "ExecuteTime": {
     "end_time": "2023-10-12T08:00:36.960954Z",
     "start_time": "2023-10-12T08:00:36.387944Z"
    }
   },
   "outputs": [
    {
     "data": {
      "text/html": [
       "<div>\n",
       "<style scoped>\n",
       "    .dataframe tbody tr th:only-of-type {\n",
       "        vertical-align: middle;\n",
       "    }\n",
       "\n",
       "    .dataframe tbody tr th {\n",
       "        vertical-align: top;\n",
       "    }\n",
       "\n",
       "    .dataframe thead th {\n",
       "        text-align: right;\n",
       "    }\n",
       "</style>\n",
       "<table border=\"1\" class=\"dataframe\">\n",
       "  <thead>\n",
       "    <tr style=\"text-align: right;\">\n",
       "      <th></th>\n",
       "      <th>symboling</th>\n",
       "      <th>normalized-losses</th>\n",
       "      <th>make</th>\n",
       "      <th>fuel-type</th>\n",
       "      <th>body-style</th>\n",
       "      <th>drive-wheels</th>\n",
       "      <th>engine-location</th>\n",
       "      <th>width</th>\n",
       "      <th>height</th>\n",
       "      <th>engine-type</th>\n",
       "      <th>engine-size</th>\n",
       "      <th>horsepower</th>\n",
       "      <th>city-mpg</th>\n",
       "      <th>highway-mpg</th>\n",
       "      <th>price</th>\n",
       "    </tr>\n",
       "  </thead>\n",
       "  <tbody>\n",
       "    <tr>\n",
       "      <th>0</th>\n",
       "      <td>3</td>\n",
       "      <td>115</td>\n",
       "      <td>alfa-romero</td>\n",
       "      <td>gas</td>\n",
       "      <td>convertible</td>\n",
       "      <td>rwd</td>\n",
       "      <td>front</td>\n",
       "      <td>64.1</td>\n",
       "      <td>48.8</td>\n",
       "      <td>dohc</td>\n",
       "      <td>130</td>\n",
       "      <td>111</td>\n",
       "      <td>21</td>\n",
       "      <td>27</td>\n",
       "      <td>13495</td>\n",
       "    </tr>\n",
       "    <tr>\n",
       "      <th>1</th>\n",
       "      <td>3</td>\n",
       "      <td>115</td>\n",
       "      <td>alfa-romero</td>\n",
       "      <td>gas</td>\n",
       "      <td>convertible</td>\n",
       "      <td>rwd</td>\n",
       "      <td>front</td>\n",
       "      <td>64.1</td>\n",
       "      <td>48.8</td>\n",
       "      <td>dohc</td>\n",
       "      <td>130</td>\n",
       "      <td>111</td>\n",
       "      <td>21</td>\n",
       "      <td>27</td>\n",
       "      <td>16500</td>\n",
       "    </tr>\n",
       "    <tr>\n",
       "      <th>2</th>\n",
       "      <td>1</td>\n",
       "      <td>115</td>\n",
       "      <td>alfa-romero</td>\n",
       "      <td>gas</td>\n",
       "      <td>hatchback</td>\n",
       "      <td>rwd</td>\n",
       "      <td>front</td>\n",
       "      <td>65.5</td>\n",
       "      <td>52.4</td>\n",
       "      <td>ohcv</td>\n",
       "      <td>152</td>\n",
       "      <td>154</td>\n",
       "      <td>19</td>\n",
       "      <td>26</td>\n",
       "      <td>16500</td>\n",
       "    </tr>\n",
       "    <tr>\n",
       "      <th>3</th>\n",
       "      <td>2</td>\n",
       "      <td>164</td>\n",
       "      <td>audi</td>\n",
       "      <td>gas</td>\n",
       "      <td>sedan</td>\n",
       "      <td>fwd</td>\n",
       "      <td>front</td>\n",
       "      <td>66.2</td>\n",
       "      <td>54.3</td>\n",
       "      <td>ohc</td>\n",
       "      <td>109</td>\n",
       "      <td>102</td>\n",
       "      <td>24</td>\n",
       "      <td>30</td>\n",
       "      <td>13950</td>\n",
       "    </tr>\n",
       "    <tr>\n",
       "      <th>4</th>\n",
       "      <td>2</td>\n",
       "      <td>164</td>\n",
       "      <td>audi</td>\n",
       "      <td>gas</td>\n",
       "      <td>sedan</td>\n",
       "      <td>4wd</td>\n",
       "      <td>front</td>\n",
       "      <td>66.4</td>\n",
       "      <td>54.3</td>\n",
       "      <td>ohc</td>\n",
       "      <td>136</td>\n",
       "      <td>115</td>\n",
       "      <td>18</td>\n",
       "      <td>22</td>\n",
       "      <td>17450</td>\n",
       "    </tr>\n",
       "  </tbody>\n",
       "</table>\n",
       "</div>"
      ],
      "text/plain": [
       "   symboling  normalized-losses         make fuel-type   body-style  \\\n",
       "0          3                115  alfa-romero       gas  convertible   \n",
       "1          3                115  alfa-romero       gas  convertible   \n",
       "2          1                115  alfa-romero       gas    hatchback   \n",
       "3          2                164         audi       gas        sedan   \n",
       "4          2                164         audi       gas        sedan   \n",
       "\n",
       "  drive-wheels engine-location  width  height engine-type  engine-size  \\\n",
       "0          rwd           front   64.1    48.8        dohc          130   \n",
       "1          rwd           front   64.1    48.8        dohc          130   \n",
       "2          rwd           front   65.5    52.4        ohcv          152   \n",
       "3          fwd           front   66.2    54.3         ohc          109   \n",
       "4          4wd           front   66.4    54.3         ohc          136   \n",
       "\n",
       "   horsepower  city-mpg  highway-mpg  price  \n",
       "0         111        21           27  13495  \n",
       "1         111        21           27  16500  \n",
       "2         154        19           26  16500  \n",
       "3         102        24           30  13950  \n",
       "4         115        18           22  17450  "
      ]
     },
     "execution_count": 2,
     "metadata": {},
     "output_type": "execute_result"
    }
   ],
   "source": [
    "df = pd.read_csv('https://raw.githubusercontent.com/aishwaryamate/Datasets/refs/heads/main/Regularization.csv', index_col=0)\n",
    "df.head()"
   ]
  },
  {
   "cell_type": "code",
   "execution_count": 5,
   "id": "b66b0dab",
   "metadata": {
    "ExecuteTime": {
     "end_time": "2023-10-12T08:01:27.330254Z",
     "start_time": "2023-10-12T08:01:27.288233Z"
    }
   },
   "outputs": [
    {
     "name": "stdout",
     "output_type": "stream",
     "text": [
      "<class 'pandas.core.frame.DataFrame'>\n",
      "Index: 205 entries, 0 to 204\n",
      "Data columns (total 15 columns):\n",
      " #   Column             Non-Null Count  Dtype  \n",
      "---  ------             --------------  -----  \n",
      " 0   symboling          205 non-null    int64  \n",
      " 1   normalized-losses  205 non-null    int64  \n",
      " 2   make               205 non-null    object \n",
      " 3   fuel-type          205 non-null    object \n",
      " 4   body-style         205 non-null    object \n",
      " 5   drive-wheels       205 non-null    object \n",
      " 6   engine-location    205 non-null    object \n",
      " 7   width              205 non-null    float64\n",
      " 8   height             205 non-null    float64\n",
      " 9   engine-type        205 non-null    object \n",
      " 10  engine-size        205 non-null    int64  \n",
      " 11  horsepower         205 non-null    int64  \n",
      " 12  city-mpg           205 non-null    int64  \n",
      " 13  highway-mpg        205 non-null    int64  \n",
      " 14  price              205 non-null    int64  \n",
      "dtypes: float64(2), int64(7), object(6)\n",
      "memory usage: 25.6+ KB\n"
     ]
    }
   ],
   "source": [
    "df.info()"
   ]
  },
  {
   "cell_type": "code",
   "execution_count": 7,
   "id": "57f24111",
   "metadata": {
    "ExecuteTime": {
     "end_time": "2023-10-12T08:01:55.795498Z",
     "start_time": "2023-10-12T08:01:55.769036Z"
    }
   },
   "outputs": [
    {
     "data": {
      "text/plain": [
       "symboling            0\n",
       "normalized-losses    0\n",
       "make                 0\n",
       "fuel-type            0\n",
       "body-style           0\n",
       "drive-wheels         0\n",
       "engine-location      0\n",
       "width                0\n",
       "height               0\n",
       "engine-type          0\n",
       "engine-size          0\n",
       "horsepower           0\n",
       "city-mpg             0\n",
       "highway-mpg          0\n",
       "price                0\n",
       "dtype: int64"
      ]
     },
     "execution_count": 7,
     "metadata": {},
     "output_type": "execute_result"
    }
   ],
   "source": [
    "df.isna().sum()"
   ]
  },
  {
   "cell_type": "code",
   "execution_count": 17,
   "id": "f048fc5f-3096-43ad-a1b6-bd682b9f3c95",
   "metadata": {},
   "outputs": [
    {
     "data": {
      "text/plain": [
       "Index(['make', 'fuel-type', 'body-style', 'drive-wheels', 'engine-location',\n",
       "       'engine-type'],\n",
       "      dtype='object')"
      ]
     },
     "execution_count": 17,
     "metadata": {},
     "output_type": "execute_result"
    }
   ],
   "source": [
    "df.select_dtypes(object).columns"
   ]
  },
  {
   "cell_type": "code",
   "execution_count": 19,
   "id": "903d29a0",
   "metadata": {
    "ExecuteTime": {
     "end_time": "2023-10-12T08:13:50.707654Z",
     "start_time": "2023-10-12T08:13:50.692677Z"
    }
   },
   "outputs": [
    {
     "data": {
      "text/plain": [
       "Index(['make', 'fuel-type', 'body-style', 'drive-wheels', 'engine-location',\n",
       "       'engine-type'],\n",
       "      dtype='object')"
      ]
     },
     "execution_count": 19,
     "metadata": {},
     "output_type": "execute_result"
    }
   ],
   "source": [
    "cat_cols = df.select_dtypes(object).columns\n",
    "cat_cols"
   ]
  },
  {
   "cell_type": "code",
   "execution_count": 21,
   "id": "31398812-1db4-455e-8a04-96c959dfe049",
   "metadata": {},
   "outputs": [
    {
     "data": {
      "text/html": [
       "<div>\n",
       "<style scoped>\n",
       "    .dataframe tbody tr th:only-of-type {\n",
       "        vertical-align: middle;\n",
       "    }\n",
       "\n",
       "    .dataframe tbody tr th {\n",
       "        vertical-align: top;\n",
       "    }\n",
       "\n",
       "    .dataframe thead th {\n",
       "        text-align: right;\n",
       "    }\n",
       "</style>\n",
       "<table border=\"1\" class=\"dataframe\">\n",
       "  <thead>\n",
       "    <tr style=\"text-align: right;\">\n",
       "      <th></th>\n",
       "      <th>make</th>\n",
       "      <th>fuel-type</th>\n",
       "      <th>body-style</th>\n",
       "      <th>drive-wheels</th>\n",
       "      <th>engine-location</th>\n",
       "      <th>engine-type</th>\n",
       "    </tr>\n",
       "  </thead>\n",
       "  <tbody>\n",
       "    <tr>\n",
       "      <th>0</th>\n",
       "      <td>alfa-romero</td>\n",
       "      <td>gas</td>\n",
       "      <td>convertible</td>\n",
       "      <td>rwd</td>\n",
       "      <td>front</td>\n",
       "      <td>dohc</td>\n",
       "    </tr>\n",
       "    <tr>\n",
       "      <th>1</th>\n",
       "      <td>alfa-romero</td>\n",
       "      <td>gas</td>\n",
       "      <td>convertible</td>\n",
       "      <td>rwd</td>\n",
       "      <td>front</td>\n",
       "      <td>dohc</td>\n",
       "    </tr>\n",
       "    <tr>\n",
       "      <th>2</th>\n",
       "      <td>alfa-romero</td>\n",
       "      <td>gas</td>\n",
       "      <td>hatchback</td>\n",
       "      <td>rwd</td>\n",
       "      <td>front</td>\n",
       "      <td>ohcv</td>\n",
       "    </tr>\n",
       "    <tr>\n",
       "      <th>3</th>\n",
       "      <td>audi</td>\n",
       "      <td>gas</td>\n",
       "      <td>sedan</td>\n",
       "      <td>fwd</td>\n",
       "      <td>front</td>\n",
       "      <td>ohc</td>\n",
       "    </tr>\n",
       "    <tr>\n",
       "      <th>4</th>\n",
       "      <td>audi</td>\n",
       "      <td>gas</td>\n",
       "      <td>sedan</td>\n",
       "      <td>4wd</td>\n",
       "      <td>front</td>\n",
       "      <td>ohc</td>\n",
       "    </tr>\n",
       "    <tr>\n",
       "      <th>...</th>\n",
       "      <td>...</td>\n",
       "      <td>...</td>\n",
       "      <td>...</td>\n",
       "      <td>...</td>\n",
       "      <td>...</td>\n",
       "      <td>...</td>\n",
       "    </tr>\n",
       "    <tr>\n",
       "      <th>200</th>\n",
       "      <td>volvo</td>\n",
       "      <td>gas</td>\n",
       "      <td>sedan</td>\n",
       "      <td>rwd</td>\n",
       "      <td>front</td>\n",
       "      <td>ohc</td>\n",
       "    </tr>\n",
       "    <tr>\n",
       "      <th>201</th>\n",
       "      <td>volvo</td>\n",
       "      <td>gas</td>\n",
       "      <td>sedan</td>\n",
       "      <td>rwd</td>\n",
       "      <td>front</td>\n",
       "      <td>ohc</td>\n",
       "    </tr>\n",
       "    <tr>\n",
       "      <th>202</th>\n",
       "      <td>volvo</td>\n",
       "      <td>gas</td>\n",
       "      <td>sedan</td>\n",
       "      <td>rwd</td>\n",
       "      <td>front</td>\n",
       "      <td>ohcv</td>\n",
       "    </tr>\n",
       "    <tr>\n",
       "      <th>203</th>\n",
       "      <td>volvo</td>\n",
       "      <td>diesel</td>\n",
       "      <td>sedan</td>\n",
       "      <td>rwd</td>\n",
       "      <td>front</td>\n",
       "      <td>ohc</td>\n",
       "    </tr>\n",
       "    <tr>\n",
       "      <th>204</th>\n",
       "      <td>volvo</td>\n",
       "      <td>gas</td>\n",
       "      <td>sedan</td>\n",
       "      <td>rwd</td>\n",
       "      <td>front</td>\n",
       "      <td>ohc</td>\n",
       "    </tr>\n",
       "  </tbody>\n",
       "</table>\n",
       "<p>205 rows × 6 columns</p>\n",
       "</div>"
      ],
      "text/plain": [
       "            make fuel-type   body-style drive-wheels engine-location  \\\n",
       "0    alfa-romero       gas  convertible          rwd           front   \n",
       "1    alfa-romero       gas  convertible          rwd           front   \n",
       "2    alfa-romero       gas    hatchback          rwd           front   \n",
       "3           audi       gas        sedan          fwd           front   \n",
       "4           audi       gas        sedan          4wd           front   \n",
       "..           ...       ...          ...          ...             ...   \n",
       "200        volvo       gas        sedan          rwd           front   \n",
       "201        volvo       gas        sedan          rwd           front   \n",
       "202        volvo       gas        sedan          rwd           front   \n",
       "203        volvo    diesel        sedan          rwd           front   \n",
       "204        volvo       gas        sedan          rwd           front   \n",
       "\n",
       "    engine-type  \n",
       "0          dohc  \n",
       "1          dohc  \n",
       "2          ohcv  \n",
       "3           ohc  \n",
       "4           ohc  \n",
       "..          ...  \n",
       "200         ohc  \n",
       "201         ohc  \n",
       "202        ohcv  \n",
       "203         ohc  \n",
       "204         ohc  \n",
       "\n",
       "[205 rows x 6 columns]"
      ]
     },
     "execution_count": 21,
     "metadata": {},
     "output_type": "execute_result"
    }
   ],
   "source": [
    "df[cat_cols]"
   ]
  },
  {
   "cell_type": "code",
   "execution_count": 23,
   "id": "299f5b19",
   "metadata": {
    "ExecuteTime": {
     "end_time": "2023-10-12T08:16:29.433893Z",
     "start_time": "2023-10-12T08:16:29.419821Z"
    }
   },
   "outputs": [],
   "source": [
    "oe = OrdinalEncoder()\n",
    "\n",
    "df[cat_cols] = oe.fit_transform(df[cat_cols])"
   ]
  },
  {
   "cell_type": "code",
   "execution_count": 25,
   "id": "b1343ef2",
   "metadata": {
    "ExecuteTime": {
     "end_time": "2023-10-12T08:16:30.025810Z",
     "start_time": "2023-10-12T08:16:29.939738Z"
    }
   },
   "outputs": [
    {
     "data": {
      "text/html": [
       "<div>\n",
       "<style scoped>\n",
       "    .dataframe tbody tr th:only-of-type {\n",
       "        vertical-align: middle;\n",
       "    }\n",
       "\n",
       "    .dataframe tbody tr th {\n",
       "        vertical-align: top;\n",
       "    }\n",
       "\n",
       "    .dataframe thead th {\n",
       "        text-align: right;\n",
       "    }\n",
       "</style>\n",
       "<table border=\"1\" class=\"dataframe\">\n",
       "  <thead>\n",
       "    <tr style=\"text-align: right;\">\n",
       "      <th></th>\n",
       "      <th>symboling</th>\n",
       "      <th>normalized-losses</th>\n",
       "      <th>make</th>\n",
       "      <th>fuel-type</th>\n",
       "      <th>body-style</th>\n",
       "      <th>drive-wheels</th>\n",
       "      <th>engine-location</th>\n",
       "      <th>width</th>\n",
       "      <th>height</th>\n",
       "      <th>engine-type</th>\n",
       "      <th>engine-size</th>\n",
       "      <th>horsepower</th>\n",
       "      <th>city-mpg</th>\n",
       "      <th>highway-mpg</th>\n",
       "      <th>price</th>\n",
       "    </tr>\n",
       "  </thead>\n",
       "  <tbody>\n",
       "    <tr>\n",
       "      <th>0</th>\n",
       "      <td>3</td>\n",
       "      <td>115</td>\n",
       "      <td>0.0</td>\n",
       "      <td>1.0</td>\n",
       "      <td>0.0</td>\n",
       "      <td>2.0</td>\n",
       "      <td>0.0</td>\n",
       "      <td>64.1</td>\n",
       "      <td>48.8</td>\n",
       "      <td>0.0</td>\n",
       "      <td>130</td>\n",
       "      <td>111</td>\n",
       "      <td>21</td>\n",
       "      <td>27</td>\n",
       "      <td>13495</td>\n",
       "    </tr>\n",
       "    <tr>\n",
       "      <th>1</th>\n",
       "      <td>3</td>\n",
       "      <td>115</td>\n",
       "      <td>0.0</td>\n",
       "      <td>1.0</td>\n",
       "      <td>0.0</td>\n",
       "      <td>2.0</td>\n",
       "      <td>0.0</td>\n",
       "      <td>64.1</td>\n",
       "      <td>48.8</td>\n",
       "      <td>0.0</td>\n",
       "      <td>130</td>\n",
       "      <td>111</td>\n",
       "      <td>21</td>\n",
       "      <td>27</td>\n",
       "      <td>16500</td>\n",
       "    </tr>\n",
       "    <tr>\n",
       "      <th>2</th>\n",
       "      <td>1</td>\n",
       "      <td>115</td>\n",
       "      <td>0.0</td>\n",
       "      <td>1.0</td>\n",
       "      <td>2.0</td>\n",
       "      <td>2.0</td>\n",
       "      <td>0.0</td>\n",
       "      <td>65.5</td>\n",
       "      <td>52.4</td>\n",
       "      <td>5.0</td>\n",
       "      <td>152</td>\n",
       "      <td>154</td>\n",
       "      <td>19</td>\n",
       "      <td>26</td>\n",
       "      <td>16500</td>\n",
       "    </tr>\n",
       "    <tr>\n",
       "      <th>3</th>\n",
       "      <td>2</td>\n",
       "      <td>164</td>\n",
       "      <td>1.0</td>\n",
       "      <td>1.0</td>\n",
       "      <td>3.0</td>\n",
       "      <td>1.0</td>\n",
       "      <td>0.0</td>\n",
       "      <td>66.2</td>\n",
       "      <td>54.3</td>\n",
       "      <td>3.0</td>\n",
       "      <td>109</td>\n",
       "      <td>102</td>\n",
       "      <td>24</td>\n",
       "      <td>30</td>\n",
       "      <td>13950</td>\n",
       "    </tr>\n",
       "    <tr>\n",
       "      <th>4</th>\n",
       "      <td>2</td>\n",
       "      <td>164</td>\n",
       "      <td>1.0</td>\n",
       "      <td>1.0</td>\n",
       "      <td>3.0</td>\n",
       "      <td>0.0</td>\n",
       "      <td>0.0</td>\n",
       "      <td>66.4</td>\n",
       "      <td>54.3</td>\n",
       "      <td>3.0</td>\n",
       "      <td>136</td>\n",
       "      <td>115</td>\n",
       "      <td>18</td>\n",
       "      <td>22</td>\n",
       "      <td>17450</td>\n",
       "    </tr>\n",
       "    <tr>\n",
       "      <th>...</th>\n",
       "      <td>...</td>\n",
       "      <td>...</td>\n",
       "      <td>...</td>\n",
       "      <td>...</td>\n",
       "      <td>...</td>\n",
       "      <td>...</td>\n",
       "      <td>...</td>\n",
       "      <td>...</td>\n",
       "      <td>...</td>\n",
       "      <td>...</td>\n",
       "      <td>...</td>\n",
       "      <td>...</td>\n",
       "      <td>...</td>\n",
       "      <td>...</td>\n",
       "      <td>...</td>\n",
       "    </tr>\n",
       "    <tr>\n",
       "      <th>200</th>\n",
       "      <td>-1</td>\n",
       "      <td>95</td>\n",
       "      <td>21.0</td>\n",
       "      <td>1.0</td>\n",
       "      <td>3.0</td>\n",
       "      <td>2.0</td>\n",
       "      <td>0.0</td>\n",
       "      <td>68.9</td>\n",
       "      <td>55.5</td>\n",
       "      <td>3.0</td>\n",
       "      <td>141</td>\n",
       "      <td>114</td>\n",
       "      <td>23</td>\n",
       "      <td>28</td>\n",
       "      <td>16845</td>\n",
       "    </tr>\n",
       "    <tr>\n",
       "      <th>201</th>\n",
       "      <td>-1</td>\n",
       "      <td>95</td>\n",
       "      <td>21.0</td>\n",
       "      <td>1.0</td>\n",
       "      <td>3.0</td>\n",
       "      <td>2.0</td>\n",
       "      <td>0.0</td>\n",
       "      <td>68.8</td>\n",
       "      <td>55.5</td>\n",
       "      <td>3.0</td>\n",
       "      <td>141</td>\n",
       "      <td>160</td>\n",
       "      <td>19</td>\n",
       "      <td>25</td>\n",
       "      <td>19045</td>\n",
       "    </tr>\n",
       "    <tr>\n",
       "      <th>202</th>\n",
       "      <td>-1</td>\n",
       "      <td>95</td>\n",
       "      <td>21.0</td>\n",
       "      <td>1.0</td>\n",
       "      <td>3.0</td>\n",
       "      <td>2.0</td>\n",
       "      <td>0.0</td>\n",
       "      <td>68.9</td>\n",
       "      <td>55.5</td>\n",
       "      <td>5.0</td>\n",
       "      <td>173</td>\n",
       "      <td>134</td>\n",
       "      <td>18</td>\n",
       "      <td>23</td>\n",
       "      <td>21485</td>\n",
       "    </tr>\n",
       "    <tr>\n",
       "      <th>203</th>\n",
       "      <td>-1</td>\n",
       "      <td>95</td>\n",
       "      <td>21.0</td>\n",
       "      <td>0.0</td>\n",
       "      <td>3.0</td>\n",
       "      <td>2.0</td>\n",
       "      <td>0.0</td>\n",
       "      <td>68.9</td>\n",
       "      <td>55.5</td>\n",
       "      <td>3.0</td>\n",
       "      <td>145</td>\n",
       "      <td>106</td>\n",
       "      <td>26</td>\n",
       "      <td>27</td>\n",
       "      <td>22470</td>\n",
       "    </tr>\n",
       "    <tr>\n",
       "      <th>204</th>\n",
       "      <td>-1</td>\n",
       "      <td>95</td>\n",
       "      <td>21.0</td>\n",
       "      <td>1.0</td>\n",
       "      <td>3.0</td>\n",
       "      <td>2.0</td>\n",
       "      <td>0.0</td>\n",
       "      <td>68.9</td>\n",
       "      <td>55.5</td>\n",
       "      <td>3.0</td>\n",
       "      <td>141</td>\n",
       "      <td>114</td>\n",
       "      <td>19</td>\n",
       "      <td>25</td>\n",
       "      <td>22625</td>\n",
       "    </tr>\n",
       "  </tbody>\n",
       "</table>\n",
       "<p>205 rows × 15 columns</p>\n",
       "</div>"
      ],
      "text/plain": [
       "     symboling  normalized-losses  make  fuel-type  body-style  drive-wheels  \\\n",
       "0            3                115   0.0        1.0         0.0           2.0   \n",
       "1            3                115   0.0        1.0         0.0           2.0   \n",
       "2            1                115   0.0        1.0         2.0           2.0   \n",
       "3            2                164   1.0        1.0         3.0           1.0   \n",
       "4            2                164   1.0        1.0         3.0           0.0   \n",
       "..         ...                ...   ...        ...         ...           ...   \n",
       "200         -1                 95  21.0        1.0         3.0           2.0   \n",
       "201         -1                 95  21.0        1.0         3.0           2.0   \n",
       "202         -1                 95  21.0        1.0         3.0           2.0   \n",
       "203         -1                 95  21.0        0.0         3.0           2.0   \n",
       "204         -1                 95  21.0        1.0         3.0           2.0   \n",
       "\n",
       "     engine-location  width  height  engine-type  engine-size  horsepower  \\\n",
       "0                0.0   64.1    48.8          0.0          130         111   \n",
       "1                0.0   64.1    48.8          0.0          130         111   \n",
       "2                0.0   65.5    52.4          5.0          152         154   \n",
       "3                0.0   66.2    54.3          3.0          109         102   \n",
       "4                0.0   66.4    54.3          3.0          136         115   \n",
       "..               ...    ...     ...          ...          ...         ...   \n",
       "200              0.0   68.9    55.5          3.0          141         114   \n",
       "201              0.0   68.8    55.5          3.0          141         160   \n",
       "202              0.0   68.9    55.5          5.0          173         134   \n",
       "203              0.0   68.9    55.5          3.0          145         106   \n",
       "204              0.0   68.9    55.5          3.0          141         114   \n",
       "\n",
       "     city-mpg  highway-mpg  price  \n",
       "0          21           27  13495  \n",
       "1          21           27  16500  \n",
       "2          19           26  16500  \n",
       "3          24           30  13950  \n",
       "4          18           22  17450  \n",
       "..        ...          ...    ...  \n",
       "200        23           28  16845  \n",
       "201        19           25  19045  \n",
       "202        18           23  21485  \n",
       "203        26           27  22470  \n",
       "204        19           25  22625  \n",
       "\n",
       "[205 rows x 15 columns]"
      ]
     },
     "execution_count": 25,
     "metadata": {},
     "output_type": "execute_result"
    }
   ],
   "source": [
    "df"
   ]
  },
  {
   "cell_type": "code",
   "execution_count": 27,
   "id": "f625f4be",
   "metadata": {
    "ExecuteTime": {
     "end_time": "2023-10-12T08:16:41.769665Z",
     "start_time": "2023-10-12T08:16:41.735680Z"
    }
   },
   "outputs": [
    {
     "data": {
      "text/plain": [
       "symboling              int64\n",
       "normalized-losses      int64\n",
       "make                 float64\n",
       "fuel-type            float64\n",
       "body-style           float64\n",
       "drive-wheels         float64\n",
       "engine-location      float64\n",
       "width                float64\n",
       "height               float64\n",
       "engine-type          float64\n",
       "engine-size            int64\n",
       "horsepower             int64\n",
       "city-mpg               int64\n",
       "highway-mpg            int64\n",
       "price                  int64\n",
       "dtype: object"
      ]
     },
     "execution_count": 27,
     "metadata": {},
     "output_type": "execute_result"
    }
   ],
   "source": [
    "df.dtypes"
   ]
  },
  {
   "cell_type": "markdown",
   "id": "3cddf13b",
   "metadata": {
    "ExecuteTime": {
     "end_time": "2023-05-02T08:29:05.381457Z",
     "start_time": "2023-05-02T08:29:05.372101Z"
    }
   },
   "source": [
    "# Model building"
   ]
  },
  {
   "cell_type": "code",
   "execution_count": 29,
   "id": "a87bd9ea",
   "metadata": {
    "ExecuteTime": {
     "end_time": "2023-10-12T08:18:40.068449Z",
     "start_time": "2023-10-12T08:18:40.042401Z"
    }
   },
   "outputs": [],
   "source": [
    "x = df.iloc[:,:-1]\n",
    "y = df['price']"
   ]
  },
  {
   "cell_type": "code",
   "execution_count": 31,
   "id": "18e15428",
   "metadata": {
    "ExecuteTime": {
     "end_time": "2023-10-12T08:18:42.594195Z",
     "start_time": "2023-10-12T08:18:42.576908Z"
    }
   },
   "outputs": [],
   "source": [
    "xtrain,xtest,ytrain,ytest = train_test_split(x,y,test_size=0.3, random_state=1)"
   ]
  },
  {
   "cell_type": "markdown",
   "id": "22f663f4",
   "metadata": {},
   "source": [
    "# Lasso"
   ]
  },
  {
   "cell_type": "code",
   "execution_count": 33,
   "id": "9f212ee3",
   "metadata": {
    "ExecuteTime": {
     "end_time": "2023-10-12T08:22:02.501278Z",
     "start_time": "2023-10-12T08:22:02.451857Z"
    }
   },
   "outputs": [
    {
     "data": {
      "text/plain": [
       "(0.8504215478243032, 0.7966615211575688)"
      ]
     },
     "execution_count": 33,
     "metadata": {},
     "output_type": "execute_result"
    }
   ],
   "source": [
    "l1 = Lasso()\n",
    "l1.fit(xtrain,ytrain)\n",
    "l1.score(xtrain,ytrain), l1.score(xtest,ytest)"
   ]
  },
  {
   "cell_type": "markdown",
   "id": "96cf285a",
   "metadata": {},
   "source": [
    "# Hyperparameter Tuning"
   ]
  },
  {
   "cell_type": "code",
   "execution_count": 37,
   "id": "525fb9b9",
   "metadata": {
    "ExecuteTime": {
     "end_time": "2023-10-12T08:28:50.282283Z",
     "start_time": "2023-10-12T08:28:49.608406Z"
    }
   },
   "outputs": [
    {
     "name": "stdout",
     "output_type": "stream",
     "text": [
      "Alpha: 100 Train : 0.8372483974026499 Test: 0.8092040910955614\n",
      "Alpha: 101 Train : 0.836989922954141 Test: 0.809297961073826\n",
      "Alpha: 102 Train : 0.8367288785613756 Test: 0.8093910017461713\n",
      "Alpha: 103 Train : 0.8364651676681872 Test: 0.8094832684251524\n",
      "Alpha: 104 Train : 0.8361989818307349 Test: 0.8095746503624813\n",
      "Alpha: 105 Train : 0.8359302253870347 Test: 0.8096652035299015\n",
      "Alpha: 106 Train : 0.8356588978359674 Test: 0.80975492823091\n",
      "Alpha: 107 Train : 0.8353849991129143 Test: 0.8098438245155561\n",
      "Alpha: 108 Train : 0.8351084257059384 Test: 0.809931945484127\n",
      "Alpha: 109 Train : 0.8348293842179739 Test: 0.8100191840285438\n",
      "Alpha: 110 Train : 0.8345477714936768 Test: 0.8101055942385993\n",
      "Alpha: 111 Train : 0.8342635877040371 Test: 0.8101911760417995\n",
      "Alpha: 112 Train : 0.8339767222137543 Test: 0.8102759813628972\n",
      "Alpha: 113 Train : 0.833687395461321 Test: 0.810359905626256\n",
      "Alpha: 114 Train : 0.8333954973355284 Test: 0.8104430016665038\n",
      "Alpha: 115 Train : 0.8331010276993129 Test: 0.8105252695475365\n",
      "Alpha: 116 Train : 0.8328038691204882 Test: 0.8106067595950119\n",
      "Alpha: 117 Train : 0.8325042561318753 Test: 0.8106873701557593\n",
      "Alpha: 118 Train : 0.8322020717101932 Test: 0.8107671525374287\n",
      "Alpha: 119 Train : 0.8318973159092646 Test: 0.8108461067199924\n",
      "Alpha: 120 Train : 0.8315898643306086 Test: 0.8109242812985725\n",
      "Alpha: 121 Train : 0.831279966029459 Test: 0.8110015778648529\n",
      "Alpha: 122 Train : 0.8309674969080167 Test: 0.8110780460553537\n",
      "Alpha: 123 Train : 0.8306523257994233 Test: 0.8111537336006445\n",
      "Alpha: 124 Train : 0.8303347149155726 Test: 0.8112285440004985\n",
      "Alpha: 125 Train : 0.8300145320017067 Test: 0.8113025265087271\n",
      "Alpha: 126 Train : 0.8296917792068185 Test: 0.8113756803829957\n",
      "Alpha: 127 Train : 0.8293663164754229 Test: 0.8114480518748994\n",
      "Alpha: 128 Train : 0.8290384195488707 Test: 0.8115195488665821\n",
      "Alpha: 129 Train : 0.8287079533571842 Test: 0.8115902170896444\n",
      "Alpha: 130 Train : 0.8283747703082013 Test: 0.8116601017520376\n",
      "Alpha: 131 Train : 0.8280391586533506 Test: 0.8117291135142942\n",
      "Alpha: 132 Train : 0.8277009785176217 Test: 0.8117972963383393\n",
      "Alpha: 133 Train : 0.8273600743513214 Test: 0.8118646943166663\n",
      "Alpha: 134 Train : 0.8270167519203321 Test: 0.811931219780706\n",
      "Alpha: 135 Train : 0.8266708579462198 Test: 0.8119969172586019\n",
      "Alpha: 136 Train : 0.8263223897906081 Test: 0.8120617874347752\n",
      "Alpha: 137 Train : 0.8259711936341727 Test: 0.8121258693292266\n",
      "Alpha: 138 Train : 0.8256175865009793 Test: 0.8121890813322453\n",
      "Alpha: 139 Train : 0.8252612405575874 Test: 0.8122515055400705\n",
      "Alpha: 140 Train : 0.8249024913515863 Test: 0.8123130602354287\n",
      "Alpha: 141 Train : 0.8245411708666053 Test: 0.8123737869230409\n",
      "Alpha: 142 Train : 0.8241771102161817 Test: 0.8124337227741054\n",
      "Alpha: 143 Train : 0.8238106530253966 Test: 0.8124927911020219\n",
      "Alpha: 144 Train : 0.8234416172134693 Test: 0.8125510330332001\n",
      "Alpha: 145 Train : 0.8230698280784812 Test: 0.8126084835163165\n",
      "Alpha: 146 Train : 0.8226956503354529 Test: 0.8126650681694728\n",
      "Alpha: 147 Train : 0.8223189013367543 Test: 0.8127208248289379\n",
      "Alpha: 148 Train : 0.8219393940513868 Test: 0.8127757876072302\n",
      "Alpha: 149 Train : 0.8215575086176153 Test: 0.812829886091909\n",
      "Alpha: 150 Train : 0.8211730520262539 Test: 0.8128831566524963\n",
      "Alpha: 151 Train : 0.8207858295570519 Test: 0.8129356313528259\n",
      "Alpha: 152 Train : 0.820396239279749 Test: 0.8129872435786126\n",
      "Alpha: 153 Train : 0.8200038659827094 Test: 0.8130380604531805\n",
      "Alpha: 154 Train : 0.8196091274468162 Test: 0.8130880167485961\n",
      "Alpha: 155 Train : 0.819211604858422 Test: 0.8131371754207155\n",
      "Alpha: 156 Train : 0.818811725601232 Test: 0.8131854746070427\n",
      "Alpha: 157 Train : 0.8184092752900355 Test: 0.8132329459427781\n",
      "Alpha: 158 Train : 0.8180040340448276 Test: 0.8132796171081449\n",
      "Alpha: 159 Train : 0.8175964432833528 Test: 0.8133254313927005\n",
      "Alpha: 160 Train : 0.8171860531186916 Test: 0.8133704442145948\n",
      "Alpha: 161 Train : 0.8167733221546686 Test: 0.8134146014856176\n",
      "Alpha: 162 Train : 0.816357783218174 Test: 0.8134579558972019\n",
      "Alpha: 163 Train : 0.8159399130313314 Test: 0.813500456125974\n",
      "Alpha: 164 Train : 0.8155192326252292 Test: 0.8135421513909359\n",
      "Alpha: 165 Train : 0.8150962240434019 Test: 0.8135829946288718\n",
      "Alpha: 166 Train : 0.8146706427093287 Test: 0.8136230103114317\n",
      "Alpha: 167 Train : 0.814242239042142 Test: 0.8136622185802582\n",
      "Alpha: 168 Train : 0.8138115184156173 Test: 0.8137005774315418\n",
      "Alpha: 169 Train : 0.8133779670184813 Test: 0.8137381271523583\n",
      "Alpha: 170 Train : 0.8129421074297322 Test: 0.8137748292356426\n",
      "Alpha: 171 Train : 0.8125034086683015 Test: 0.8138107203716055\n",
      "Alpha: 172 Train : 0.8120624104546714 Test: 0.8138457657584284\n",
      "Alpha: 173 Train : 0.8116185647484577 Test: 0.8138799982828284\n",
      "Alpha: 174 Train : 0.8111721398138243 Test: 0.8139134011642211\n",
      "Alpha: 175 Train : 0.8107234361496891 Test: 0.8139459609474125\n",
      "Alpha: 176 Train : 0.810271864885988 Test: 0.8139777051490644\n",
      "Alpha: 177 Train : 0.8098180239059949 Test: 0.8140086084473979\n",
      "Alpha: 178 Train : 0.8093613132661215 Test: 0.8140386937712968\n",
      "Alpha: 179 Train : 0.8089023413382919 Test: 0.8140679405535107\n",
      "Alpha: 180 Train : 0.8084404898252786 Test: 0.8140963672263581\n",
      "Alpha: 181 Train : 0.8079760625391161 Test: 0.8141239640881854\n",
      "Alpha: 182 Train : 0.8075093897331423 Test: 0.8141507260035139\n",
      "Alpha: 183 Train : 0.807039816130038 Test: 0.814176664435304\n",
      "Alpha: 184 Train : 0.8065680080542684 Test: 0.8142017704223898\n",
      "Alpha: 185 Train : 0.8060932933491102 Test: 0.8142260504255303\n",
      "Alpha: 186 Train : 0.8056160025244101 Test: 0.814249500599942\n",
      "Alpha: 187 Train : 0.8051364964854257 Test: 0.8142721223415648\n",
      "Alpha: 188 Train : 0.8046540668179516 Test: 0.8142939142513761\n",
      "Alpha: 189 Train : 0.8041690622414062 Test: 0.8143148763571931\n",
      "Alpha: 190 Train : 0.8036814832401015 Test: 0.814335008655335\n",
      "Alpha: 191 Train : 0.8031917275605562 Test: 0.8143543185997576\n",
      "Alpha: 192 Train : 0.8026990258705381 Test: 0.8143727932940248\n",
      "Alpha: 193 Train : 0.8022037529436445 Test: 0.8143904384269914\n",
      "Alpha: 194 Train : 0.801705909538015 Test: 0.8144072540570485\n",
      "Alpha: 195 Train : 0.8012054966196824 Test: 0.8144232402636583\n",
      "Alpha: 196 Train : 0.800702515179387 Test: 0.8144383971441083\n",
      "Alpha: 197 Train : 0.800197399884526 Test: 0.814452741947497\n",
      "Alpha: 198 Train : 0.799689294783284 Test: 0.8144662423958203\n",
      "Alpha: 199 Train : 0.799178624196061 Test: 0.814478913919148\n"
     ]
    }
   ],
   "source": [
    "for i in range(100,200):\n",
    "    l1 = Lasso(alpha=i)\n",
    "    l1.fit(xtrain,ytrain)\n",
    "    print(f\"Alpha: {i} Train : {l1.score(xtrain,ytrain)} Test: {l1.score(xtest,ytest)}\")"
   ]
  },
  {
   "cell_type": "code",
   "execution_count": 39,
   "id": "23a5fc19",
   "metadata": {
    "ExecuteTime": {
     "end_time": "2023-10-12T08:29:06.504118Z",
     "start_time": "2023-10-12T08:29:06.474698Z"
    }
   },
   "outputs": [
    {
     "data": {
      "text/plain": [
       "(0.8107234361496891, 0.8139459609474125)"
      ]
     },
     "execution_count": 39,
     "metadata": {},
     "output_type": "execute_result"
    }
   ],
   "source": [
    "l1 = Lasso(alpha=175)\n",
    "l1.fit(xtrain,ytrain)\n",
    "l1.score(xtrain,ytrain), l1.score(xtest,ytest)"
   ]
  },
  {
   "cell_type": "markdown",
   "id": "ba2ef9c3",
   "metadata": {},
   "source": [
    "# Ridge "
   ]
  },
  {
   "cell_type": "code",
   "execution_count": 41,
   "id": "5ff790d5",
   "metadata": {
    "ExecuteTime": {
     "end_time": "2023-10-12T08:31:34.549542Z",
     "start_time": "2023-10-12T08:31:34.430300Z"
    }
   },
   "outputs": [
    {
     "data": {
      "text/plain": [
       "(0.8435840853399227, 0.8075632224690538)"
      ]
     },
     "execution_count": 41,
     "metadata": {},
     "output_type": "execute_result"
    }
   ],
   "source": [
    "l2 = Ridge()\n",
    "\n",
    "l2.fit(xtrain,ytrain)\n",
    "l2.score(xtrain,ytrain), l2.score(xtest,ytest)"
   ]
  },
  {
   "cell_type": "code",
   "execution_count": 43,
   "id": "01dbcfb9",
   "metadata": {
    "ExecuteTime": {
     "end_time": "2023-10-12T08:32:50.308497Z",
     "start_time": "2023-10-12T08:32:49.194802Z"
    },
    "scrolled": true
   },
   "outputs": [
    {
     "name": "stdout",
     "output_type": "stream",
     "text": [
      "Alpha: 1 Train: 0.8435840853399227 Test: 0.8075632224690538\n",
      "Alpha: 2 Train: 0.8356695734845092 Test: 0.8112192014374254\n",
      "Alpha: 3 Train: 0.8296379623431075 Test: 0.8129299663310143\n",
      "Alpha: 4 Train: 0.8250699092246865 Test: 0.8138839096972439\n",
      "Alpha: 5 Train: 0.8215093087765016 Test: 0.8144682684596017\n",
      "Alpha: 6 Train: 0.8186486103834849 Test: 0.8148435627265231\n",
      "Alpha: 7 Train: 0.8162882573020809 Test: 0.8150880725612082\n",
      "Alpha: 8 Train: 0.8142964263180523 Test: 0.8152447305071581\n",
      "Alpha: 9 Train: 0.812583522729097 Test: 0.8153392574436444\n",
      "Alpha: 10 Train: 0.8110868722186453 Test: 0.8153881483263246\n",
      "Alpha: 11 Train: 0.8097614513602519 Test: 0.8154025610279507\n",
      "Alpha: 12 Train: 0.8085741366835051 Test: 0.8153903693701571\n",
      "Alpha: 13 Train: 0.8075000372738095 Test: 0.8153573212892012\n",
      "Alpha: 14 Train: 0.8065200924084595 Test: 0.8153077294072232\n",
      "Alpha: 15 Train: 0.8056194580416448 Test: 0.8152449025615436\n",
      "Alpha: 16 Train: 0.8047863980733029 Test: 0.815171426484327\n",
      "Alpha: 17 Train: 0.8040115065187471 Test: 0.8150893527689591\n",
      "Alpha: 18 Train: 0.8032871514648678 Test: 0.8150003299437463\n",
      "Alpha: 19 Train: 0.8026070707304609 Test: 0.8149056967781803\n",
      "Alpha: 20 Train: 0.8019660732378706 Test: 0.8148065502246252\n",
      "Alpha: 21 Train: 0.801359815307779 Test: 0.8147037958811018\n",
      "Alpha: 22 Train: 0.8007846308878103 Test: 0.8145981861304739\n",
      "Alpha: 23 Train: 0.8002374011637663 Test: 0.8144903494117507\n",
      "Alpha: 24 Train: 0.7997154533085168 Test: 0.8143808129927239\n",
      "Alpha: 25 Train: 0.7992164810518412 Test: 0.8142700209017133\n",
      "Alpha: 26 Train: 0.7987384817763888 Test: 0.814158348199973\n",
      "Alpha: 27 Train: 0.7982797062609372 Test: 0.8140461124511118\n",
      "Alpha: 28 Train: 0.7978386181969568 Test: 0.8139335830177279\n",
      "Alpha: 29 Train: 0.7974138613263304 Test: 0.813820988655486\n",
      "Alpha: 30 Train: 0.7970042325726074 Test: 0.8137085237599926\n",
      "Alpha: 31 Train: 0.796608659923398 Test: 0.8135963535381274\n",
      "Alpha: 32 Train: 0.7962261841073036 Test: 0.8134846183137232\n",
      "Alpha: 33 Train: 0.7958559433227879 Test: 0.8133734371313505\n",
      "Alpha: 34 Train: 0.7954971604380747 Test: 0.8132629107871044\n",
      "Alpha: 35 Train: 0.7951491322043275 Test: 0.813153124388708\n",
      "Alpha: 36 Train: 0.7948112201189454 Test: 0.8130441495267424\n",
      "Alpha: 37 Train: 0.7944828426489629 Test: 0.8129360461229018\n",
      "Alpha: 38 Train: 0.7941634685815294 Test: 0.8128288640086809\n",
      "Alpha: 39 Train: 0.7938526113131447 Test: 0.8127226442780506\n",
      "Alpha: 40 Train: 0.7935498239245844 Test: 0.8126174204498452\n",
      "Alpha: 41 Train: 0.7932546949164723 Test: 0.8125132194693003\n",
      "Alpha: 42 Train: 0.7929668445028012 Test: 0.8124100625731354\n",
      "Alpha: 43 Train: 0.7926859213776738 Test: 0.8123079660384831\n",
      "Alpha: 44 Train: 0.7924115998850196 Test: 0.8122069418326154\n",
      "Alpha: 45 Train: 0.7921435775328081 Test: 0.8121069981777135\n",
      "Alpha: 46 Train: 0.7918815728028478 Test: 0.812008140042653\n",
      "Alpha: 47 Train: 0.7916253232151245 Test: 0.8119103695719461\n",
      "Alpha: 48 Train: 0.7913745836120684 Test: 0.811813686460422\n",
      "Alpha: 49 Train: 0.7911291246334806 Test: 0.8117180882809594\n",
      "Alpha: 50 Train: 0.7908887313572602 Test: 0.8116235707715007\n",
      "Alpha: 51 Train: 0.7906532020847594 Test: 0.8115301280866845\n",
      "Alpha: 52 Train: 0.7904223472526621 Test: 0.8114377530186672\n",
      "Alpha: 53 Train: 0.7901959884558676 Test: 0.8113464371910788\n",
      "Alpha: 54 Train: 0.7899739575680174 Test: 0.8112561712294912\n",
      "Alpha: 55 Train: 0.7897560959481497 Test: 0.8111669449113403\n",
      "Alpha: 56 Train: 0.78954225372351 Test: 0.811078747297838\n",
      "Alpha: 57 Train: 0.7893322891398644 Test: 0.810991566850071\n",
      "Alpha: 58 Train: 0.7891260679717907 Test: 0.8109053915312063\n",
      "Alpha: 59 Train: 0.7889234629863808 Test: 0.8108202088964676\n",
      "Alpha: 60 Train: 0.7887243534546109 Test: 0.8107360061723382\n",
      "Alpha: 61 Train: 0.7885286247053472 Test: 0.8106527703262636\n",
      "Alpha: 62 Train: 0.7883361677175605 Test: 0.810570488127961\n",
      "Alpha: 63 Train: 0.7881468787468561 Test: 0.8104891462033196\n",
      "Alpha: 64 Train: 0.7879606589828785 Test: 0.8104087310817415\n",
      "Alpha: 65 Train: 0.7877774142345471 Test: 0.8103292292376814\n",
      "Alpha: 66 Train: 0.7875970546404288 Test: 0.8102506271270438\n",
      "Alpha: 67 Train: 0.7874194944018464 Test: 0.8101729112190275\n",
      "Alpha: 68 Train: 0.7872446515365975 Test: 0.8100960680239269\n",
      "Alpha: 69 Train: 0.7870724476513742 Test: 0.8100200841173539\n",
      "Alpha: 70 Train: 0.786902807731193 Test: 0.8099449461612761\n",
      "Alpha: 71 Train: 0.7867356599443074 Test: 0.8098706409222323\n",
      "Alpha: 72 Train: 0.786570935461244 Test: 0.8097971552870419\n",
      "Alpha: 73 Train: 0.7864085682867382 Test: 0.8097244762762874\n",
      "Alpha: 74 Train: 0.7862484951034632 Test: 0.8096525910558197\n",
      "Alpha: 75 Train: 0.786090655126568 Test: 0.8095814869465083\n",
      "Alpha: 76 Train: 0.7859349899681197 Test: 0.8095111514324314\n",
      "Alpha: 77 Train: 0.7857814435106489 Test: 0.8094415721676853\n",
      "Alpha: 78 Train: 0.7856299617890592 Test: 0.8093727369819631\n",
      "Alpha: 79 Train: 0.7854804928802397 Test: 0.8093046338850487\n",
      "Alpha: 80 Train: 0.785332986799778 Test: 0.8092372510703421\n",
      "Alpha: 81 Train: 0.7851873954052219 Test: 0.8091705769175341\n",
      "Alpha: 82 Train: 0.7850436723053974 Test: 0.809104599994526\n",
      "Alpha: 83 Train: 0.7849017727753195 Test: 0.8090393090586788\n",
      "Alpha: 84 Train: 0.7847616536762899 Test: 0.8089746930574779\n",
      "Alpha: 85 Train: 0.7846232733807957 Test: 0.8089107411286774\n",
      "Alpha: 86 Train: 0.7844865917018646 Test: 0.8088474425999878\n",
      "Alpha: 87 Train: 0.7843515698265606 Test: 0.8087847869883673\n",
      "Alpha: 88 Train: 0.7842181702533255 Test: 0.8087227639989625\n",
      "Alpha: 89 Train: 0.7840863567329015 Test: 0.8086613635237427\n",
      "Alpha: 90 Train: 0.7839560942125867 Test: 0.8086005756398726\n",
      "Alpha: 91 Train: 0.7838273487835998 Test: 0.8085403906078545\n",
      "Alpha: 92 Train: 0.7837000876313458 Test: 0.8084807988694747\n",
      "Alpha: 93 Train: 0.7835742789883859 Test: 0.8084217910455799\n",
      "Alpha: 94 Train: 0.783449892089942 Test: 0.8083633579337144\n",
      "Alpha: 95 Train: 0.7833268971317657 Test: 0.8083054905056333\n",
      "Alpha: 96 Train: 0.7832052652302252 Test: 0.8082481799047186\n",
      "Alpha: 97 Train: 0.7830849683844652 Test: 0.8081914174433128\n",
      "Alpha: 98 Train: 0.7829659794405156 Test: 0.8081351945999873\n",
      "Alpha: 99 Train: 0.7828482720572245 Test: 0.8080795030167585\n"
     ]
    }
   ],
   "source": [
    "for i in range(1,100):\n",
    "    l2 = Ridge(alpha=i)\n",
    "    l2.fit(xtrain,ytrain)\n",
    "    print(f\"Alpha: {i} Train: {l2.score(xtrain,ytrain)} Test: {l2.score(xtest,ytest)}\")"
   ]
  },
  {
   "cell_type": "code",
   "execution_count": 45,
   "id": "d023bb94",
   "metadata": {
    "ExecuteTime": {
     "end_time": "2023-10-12T08:33:29.923818Z",
     "start_time": "2023-10-12T08:33:29.870245Z"
    }
   },
   "outputs": [
    {
     "data": {
      "text/plain": [
       "(0.8162882573020809, 0.8150880725612082)"
      ]
     },
     "execution_count": 45,
     "metadata": {},
     "output_type": "execute_result"
    }
   ],
   "source": [
    "l2 = Ridge(alpha=7)\n",
    "l2.fit(xtrain,ytrain)\n",
    "l2.score(xtrain,ytrain),l2.score(xtest,ytest)"
   ]
  },
  {
   "cell_type": "markdown",
   "id": "3ebe6ab3",
   "metadata": {},
   "source": [
    "# Elastic Net"
   ]
  },
  {
   "cell_type": "code",
   "execution_count": 47,
   "id": "ecedda46",
   "metadata": {
    "ExecuteTime": {
     "end_time": "2023-10-12T08:34:49.820854Z",
     "start_time": "2023-10-12T08:34:49.792027Z"
    }
   },
   "outputs": [
    {
     "data": {
      "text/plain": [
       "(0.7866253599240464, 0.8098264817256129)"
      ]
     },
     "execution_count": 47,
     "metadata": {},
     "output_type": "execute_result"
    }
   ],
   "source": [
    "en = ElasticNet()\n",
    "en.fit(xtrain,ytrain)\n",
    "en.score(xtrain,ytrain), en.score(xtest,ytest)"
   ]
  },
  {
   "cell_type": "code",
   "execution_count": null,
   "id": "ef40d7ce",
   "metadata": {},
   "outputs": [],
   "source": []
  }
 ],
 "metadata": {
  "kernelspec": {
   "display_name": "Python 3 (ipykernel)",
   "language": "python",
   "name": "python3"
  },
  "language_info": {
   "codemirror_mode": {
    "name": "ipython",
    "version": 3
   },
   "file_extension": ".py",
   "mimetype": "text/x-python",
   "name": "python",
   "nbconvert_exporter": "python",
   "pygments_lexer": "ipython3",
   "version": "3.12.4"
  }
 },
 "nbformat": 4,
 "nbformat_minor": 5
}
